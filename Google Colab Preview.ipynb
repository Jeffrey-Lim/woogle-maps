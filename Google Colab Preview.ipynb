{
  "cells": [
    {
      "cell_type": "markdown",
      "metadata": {
        "id": "gyMBkEWo8nT-"
      },
      "source": [
        "# Google Colab Notebook\n",
        "Use this notebook to run Woogle Maps in Google Colab. Simply run all cells sequentially. It will take a few minutes to set up.\n",
        "\n",
        "## Step 1: Get the correct python version\n",
        "By default, Google Colab uses Python 3.10, but we need Python 3.12 for Woogle Maps. The following cell install the correct Python version."
      ]
    },
    {
      "cell_type": "code",
      "execution_count": 1,
      "metadata": {
        "id": "nuowyK2s8bvd",
        "colab": {
          "base_uri": "https://localhost:8080/"
        },
        "outputId": "503b488e-e0ed-494d-edef-28d7673c05ea"
      },
      "outputs": [
        {
          "output_type": "stream",
          "name": "stdout",
          "text": [
            "Get:1 http://security.ubuntu.com/ubuntu jammy-security InRelease [110 kB]\n",
            "Get:2 https://cloud.r-project.org/bin/linux/ubuntu jammy-cran40/ InRelease [3,626 B]\n",
            "Get:3 https://developer.download.nvidia.com/compute/cuda/repos/ubuntu2204/x86_64  InRelease [1,581 B]\n",
            "Hit:4 http://archive.ubuntu.com/ubuntu jammy InRelease\n",
            "Get:5 http://archive.ubuntu.com/ubuntu jammy-updates InRelease [119 kB]\n",
            "Hit:6 https://ppa.launchpadcontent.net/c2d4u.team/c2d4u4.0+/ubuntu jammy InRelease\n",
            "Hit:7 http://archive.ubuntu.com/ubuntu jammy-backports InRelease\n",
            "Get:8 http://security.ubuntu.com/ubuntu jammy-security/universe amd64 Packages [1,077 kB]\n",
            "Hit:9 https://ppa.launchpadcontent.net/deadsnakes/ppa/ubuntu jammy InRelease\n",
            "Hit:10 https://ppa.launchpadcontent.net/graphics-drivers/ppa/ubuntu jammy InRelease\n",
            "Get:11 http://security.ubuntu.com/ubuntu jammy-security/main amd64 Packages [1,756 kB]\n",
            "Hit:12 https://ppa.launchpadcontent.net/ubuntugis/ppa/ubuntu jammy InRelease\n",
            "Get:13 https://developer.download.nvidia.com/compute/cuda/repos/ubuntu2204/x86_64  Packages [830 kB]\n",
            "Get:14 http://archive.ubuntu.com/ubuntu jammy-updates/universe amd64 Packages [1,371 kB]\n",
            "Get:15 http://archive.ubuntu.com/ubuntu jammy-updates/main amd64 Packages [2,037 kB]\n",
            "Fetched 7,306 kB in 3s (2,097 kB/s)\n",
            "Reading package lists... Done\n",
            "Reading package lists... Done\n",
            "Building dependency tree... Done\n",
            "Reading state information... Done\n",
            "The following additional packages will be installed:\n",
            "  libpython3.12-minimal libpython3.12-stdlib mailcap mime-support python3.12-lib2to3\n",
            "  python3.12-minimal\n",
            "Suggested packages:\n",
            "  python3.12-venv binfmt-support\n",
            "The following NEW packages will be installed:\n",
            "  libpython3.12-minimal libpython3.12-stdlib mailcap mime-support python3.12 python3.12-distutils\n",
            "  python3.12-lib2to3 python3.12-minimal\n",
            "0 upgraded, 8 newly installed, 0 to remove and 46 not upgraded.\n",
            "Need to get 6,443 kB of archives.\n",
            "After this operation, 24.5 MB of additional disk space will be used.\n",
            "Get:1 http://archive.ubuntu.com/ubuntu jammy/main amd64 mailcap all 3.70+nmu1ubuntu1 [23.8 kB]\n",
            "Get:2 http://archive.ubuntu.com/ubuntu jammy/main amd64 mime-support all 3.66 [3,696 B]\n",
            "Get:3 https://ppa.launchpadcontent.net/deadsnakes/ppa/ubuntu jammy/main amd64 libpython3.12-minimal amd64 3.12.3-1+jammy1 [876 kB]\n",
            "Get:4 https://ppa.launchpadcontent.net/deadsnakes/ppa/ubuntu jammy/main amd64 python3.12-minimal amd64 3.12.3-1+jammy1 [2,491 kB]\n",
            "Get:5 https://ppa.launchpadcontent.net/deadsnakes/ppa/ubuntu jammy/main amd64 libpython3.12-stdlib amd64 3.12.3-1+jammy1 [2,041 kB]\n",
            "Get:6 https://ppa.launchpadcontent.net/deadsnakes/ppa/ubuntu jammy/main amd64 python3.12 amd64 3.12.3-1+jammy1 [698 kB]\n",
            "Get:7 https://ppa.launchpadcontent.net/deadsnakes/ppa/ubuntu jammy/main amd64 python3.12-lib2to3 all 3.12.3-1+jammy1 [128 kB]\n",
            "Get:8 https://ppa.launchpadcontent.net/deadsnakes/ppa/ubuntu jammy/main amd64 python3.12-distutils all 3.12.0~a1-1+jammy1 [182 kB]\n",
            "Fetched 6,443 kB in 1s (4,922 kB/s)\n",
            "Selecting previously unselected package libpython3.12-minimal:amd64.\n",
            "(Reading database ... 121920 files and directories currently installed.)\n",
            "Preparing to unpack .../0-libpython3.12-minimal_3.12.3-1+jammy1_amd64.deb ...\n",
            "Unpacking libpython3.12-minimal:amd64 (3.12.3-1+jammy1) ...\n",
            "Selecting previously unselected package python3.12-minimal.\n",
            "Preparing to unpack .../1-python3.12-minimal_3.12.3-1+jammy1_amd64.deb ...\n",
            "Unpacking python3.12-minimal (3.12.3-1+jammy1) ...\n",
            "Selecting previously unselected package mailcap.\n",
            "Preparing to unpack .../2-mailcap_3.70+nmu1ubuntu1_all.deb ...\n",
            "Unpacking mailcap (3.70+nmu1ubuntu1) ...\n",
            "Selecting previously unselected package mime-support.\n",
            "Preparing to unpack .../3-mime-support_3.66_all.deb ...\n",
            "Unpacking mime-support (3.66) ...\n",
            "Selecting previously unselected package libpython3.12-stdlib:amd64.\n",
            "Preparing to unpack .../4-libpython3.12-stdlib_3.12.3-1+jammy1_amd64.deb ...\n",
            "Unpacking libpython3.12-stdlib:amd64 (3.12.3-1+jammy1) ...\n",
            "Selecting previously unselected package python3.12.\n",
            "Preparing to unpack .../5-python3.12_3.12.3-1+jammy1_amd64.deb ...\n",
            "Unpacking python3.12 (3.12.3-1+jammy1) ...\n",
            "Selecting previously unselected package python3.12-lib2to3.\n",
            "Preparing to unpack .../6-python3.12-lib2to3_3.12.3-1+jammy1_all.deb ...\n",
            "Unpacking python3.12-lib2to3 (3.12.3-1+jammy1) ...\n",
            "Selecting previously unselected package python3.12-distutils.\n",
            "Preparing to unpack .../7-python3.12-distutils_3.12.0~a1-1+jammy1_all.deb ...\n",
            "Unpacking python3.12-distutils (3.12.0~a1-1+jammy1) ...\n",
            "Setting up libpython3.12-minimal:amd64 (3.12.3-1+jammy1) ...\n",
            "Setting up python3.12-lib2to3 (3.12.3-1+jammy1) ...\n",
            "Setting up mailcap (3.70+nmu1ubuntu1) ...\n",
            "Setting up python3.12-minimal (3.12.3-1+jammy1) ...\n",
            "Setting up mime-support (3.66) ...\n",
            "Setting up libpython3.12-stdlib:amd64 (3.12.3-1+jammy1) ...\n",
            "Setting up python3.12-distutils (3.12.0~a1-1+jammy1) ...\n",
            "Setting up python3.12 (3.12.3-1+jammy1) ...\n",
            "Processing triggers for man-db (2.10.2-1) ...\n",
            "update-alternatives: using /usr/bin/python3.10 to provide /usr/bin/python3 (python3) in auto mode\n",
            "update-alternatives: using /usr/bin/python3.12 to provide /usr/bin/python3 (python3) in auto mode\n",
            "Python 3.12.3\n"
          ]
        }
      ],
      "source": [
        "!apt-get update\n",
        "!apt-get install python3.12 python3.12-distutils\n",
        "\n",
        "# Change 'python' to point at the newly installed version\n",
        "!sudo update-alternatives --install /usr/bin/python3 python3 /usr/bin/python3.10 1\n",
        "!sudo update-alternatives --install /usr/bin/python3 python3 /usr/bin/python3.12 2\n",
        "\n",
        "# Check that it prints \"Python 3.12.2\"\n",
        "!python --version"
      ]
    },
    {
      "cell_type": "markdown",
      "metadata": {
        "id": "Ok30y7IO5fey"
      },
      "source": [
        "## Step 2: Clone the repository from GitHub\n",
        "\n",
        "Download the source code and checkout a branch that has been tested to work in this notebook. Ignore any warnings that mention `detached HEAD`."
      ]
    },
    {
      "cell_type": "code",
      "execution_count": 2,
      "metadata": {
        "id": "yrhEA6Wg5i2m",
        "colab": {
          "base_uri": "https://localhost:8080/"
        },
        "outputId": "7636d427-5ec9-4f2c-c86d-8acf96d9fcad"
      },
      "outputs": [
        {
          "output_type": "stream",
          "name": "stdout",
          "text": [
            "Cloning into 'woogle-maps'...\n",
            "remote: Enumerating objects: 312, done.\u001b[K\n",
            "remote: Counting objects: 100% (312/312), done.\u001b[K\n",
            "remote: Compressing objects: 100% (202/202), done.\u001b[K\n",
            "remote: Total 312 (delta 132), reused 265 (delta 89), pack-reused 0\u001b[K\n",
            "Receiving objects: 100% (312/312), 6.20 MiB | 13.25 MiB/s, done.\n",
            "Resolving deltas: 100% (132/132), done.\n",
            "Note: switching to 'bf262b9'.\n",
            "\n",
            "You are in 'detached HEAD' state. You can look around, make experimental\n",
            "changes and commit them, and you can discard any commits you make in this\n",
            "state without impacting any branches by switching back to a branch.\n",
            "\n",
            "If you want to create a new branch to retain commits you create, you may\n",
            "do so (now or later) by using -c with the switch command. Example:\n",
            "\n",
            "  git switch -c <new-branch-name>\n",
            "\n",
            "Or undo this operation with:\n",
            "\n",
            "  git switch -\n",
            "\n",
            "Turn off this advice by setting config variable advice.detachedHead to false\n",
            "\n",
            "HEAD is now at bf262b9 add processed dossier\n"
          ]
        }
      ],
      "source": [
        "!git clone https://github.com/TeamEpochGithub/woogle-maps\n",
        "!cd woogle-maps; git fetch; git checkout bf262b9"
      ]
    },
    {
      "cell_type": "markdown",
      "metadata": {
        "id": "M1o5CBdP6Xw9"
      },
      "source": [
        "## Step 3: Install all dependencies\n",
        "\n",
        "Since dependencies are managed with Poetry, we need to install pip and Poetry first before we can install any dependencies."
      ]
    },
    {
      "cell_type": "code",
      "execution_count": 3,
      "metadata": {
        "collapsed": true,
        "id": "JEYTYiI2_yVK",
        "colab": {
          "base_uri": "https://localhost:8080/"
        },
        "outputId": "c0a471ce-3a06-4a17-b7a0-5877c0f1e891"
      },
      "outputs": [
        {
          "output_type": "stream",
          "name": "stdout",
          "text": [
            "--2024-05-06 07:09:56--  https://bootstrap.pypa.io/get-pip.py\n",
            "Resolving bootstrap.pypa.io (bootstrap.pypa.io)... 151.101.0.175, 151.101.64.175, 151.101.128.175, ...\n",
            "Connecting to bootstrap.pypa.io (bootstrap.pypa.io)|151.101.0.175|:443... connected.\n",
            "HTTP request sent, awaiting response... 200 OK\n",
            "Length: 2635835 (2.5M) [text/x-python]\n",
            "Saving to: ‘get-pip.py’\n",
            "\n",
            "get-pip.py          100%[===================>]   2.51M  --.-KB/s    in 0.08s   \n",
            "\n",
            "2024-05-06 07:09:56 (32.7 MB/s) - ‘get-pip.py’ saved [2635835/2635835]\n",
            "\n",
            "Collecting pip\n",
            "  Using cached pip-24.0-py3-none-any.whl.metadata (3.6 kB)\n",
            "\u001b[33mWARNING: Retrying (Retry(total=4, connect=None, read=None, redirect=None, status=None)) after connection broken by 'ProtocolError('Connection aborted.', RemoteDisconnected('Remote end closed connection without response'))': /simple/setuptools/\u001b[0m\u001b[33m\n",
            "\u001b[0mCollecting setuptools\n",
            "  Using cached setuptools-69.5.1-py3-none-any.whl.metadata (6.2 kB)\n",
            "Collecting wheel\n",
            "  Using cached wheel-0.43.0-py3-none-any.whl.metadata (2.2 kB)\n",
            "Using cached pip-24.0-py3-none-any.whl (2.1 MB)\n",
            "Using cached setuptools-69.5.1-py3-none-any.whl (894 kB)\n",
            "Using cached wheel-0.43.0-py3-none-any.whl (65 kB)\n",
            "Installing collected packages: wheel, setuptools, pip\n",
            "Successfully installed pip-24.0 setuptools-69.5.1 wheel-0.43.0\n",
            "\u001b[33mWARNING: Running pip as the 'root' user can result in broken permissions and conflicting behaviour with the system package manager. It is recommended to use a virtual environment instead: https://pip.pypa.io/warnings/venv\u001b[0m\u001b[33m\n",
            "\u001b[0mRequirement already satisfied: pip in /usr/local/lib/python3.12/dist-packages (24.0)\n",
            "\u001b[33mWARNING: Running pip as the 'root' user can result in broken permissions and conflicting behaviour with the system package manager. It is recommended to use a virtual environment instead: https://pip.pypa.io/warnings/venv\u001b[0m\u001b[33m\n",
            "\u001b[0mpip 24.0 from /usr/local/lib/python3.12/dist-packages/pip (python 3.12)\n"
          ]
        }
      ],
      "source": [
        "# Install pip using get-pip\n",
        "!wget https://bootstrap.pypa.io/get-pip.py\n",
        "!python get-pip.py\n",
        "!python3.12 -m pip install --upgrade pip --user\n",
        "!pip -V"
      ]
    },
    {
      "cell_type": "code",
      "execution_count": 4,
      "metadata": {
        "collapsed": true,
        "id": "9FUKlWk9CIjp",
        "colab": {
          "base_uri": "https://localhost:8080/"
        },
        "outputId": "52c2a182-b6e3-44d5-d180-30a1504e2d36"
      },
      "outputs": [
        {
          "output_type": "stream",
          "name": "stdout",
          "text": [
            "Collecting poetry\n",
            "  Downloading poetry-1.8.2-py3-none-any.whl.metadata (6.8 kB)\n",
            "Collecting build<2.0.0,>=1.0.3 (from poetry)\n",
            "  Using cached build-1.2.1-py3-none-any.whl.metadata (4.3 kB)\n",
            "Collecting cachecontrol<0.15.0,>=0.14.0 (from cachecontrol[filecache]<0.15.0,>=0.14.0->poetry)\n",
            "  Downloading cachecontrol-0.14.0-py3-none-any.whl.metadata (3.1 kB)\n",
            "Collecting cleo<3.0.0,>=2.1.0 (from poetry)\n",
            "  Downloading cleo-2.1.0-py3-none-any.whl.metadata (12 kB)\n",
            "Collecting crashtest<0.5.0,>=0.4.1 (from poetry)\n",
            "  Downloading crashtest-0.4.1-py3-none-any.whl.metadata (1.1 kB)\n",
            "Collecting dulwich<0.22.0,>=0.21.2 (from poetry)\n",
            "  Downloading dulwich-0.21.7-cp312-cp312-manylinux_2_17_x86_64.manylinux2014_x86_64.whl.metadata (4.3 kB)\n",
            "Collecting fastjsonschema<3.0.0,>=2.18.0 (from poetry)\n",
            "  Downloading fastjsonschema-2.19.1-py3-none-any.whl.metadata (2.1 kB)\n",
            "Collecting installer<0.8.0,>=0.7.0 (from poetry)\n",
            "  Downloading installer-0.7.0-py3-none-any.whl.metadata (936 bytes)\n",
            "Collecting keyring<25.0.0,>=24.0.0 (from poetry)\n",
            "  Downloading keyring-24.3.1-py3-none-any.whl.metadata (20 kB)\n",
            "Collecting packaging>=23.1 (from poetry)\n",
            "  Using cached packaging-24.0-py3-none-any.whl.metadata (3.2 kB)\n",
            "Collecting pexpect<5.0.0,>=4.7.0 (from poetry)\n",
            "  Downloading pexpect-4.9.0-py2.py3-none-any.whl.metadata (2.5 kB)\n",
            "Collecting pkginfo<2.0.0,>=1.9.4 (from poetry)\n",
            "  Downloading pkginfo-1.10.0-py3-none-any.whl.metadata (11 kB)\n",
            "Collecting platformdirs<5,>=3.0.0 (from poetry)\n",
            "  Downloading platformdirs-4.2.1-py3-none-any.whl.metadata (11 kB)\n",
            "Collecting poetry-core==1.9.0 (from poetry)\n",
            "  Downloading poetry_core-1.9.0-py3-none-any.whl.metadata (3.5 kB)\n",
            "Collecting poetry-plugin-export<2.0.0,>=1.6.0 (from poetry)\n",
            "  Downloading poetry_plugin_export-1.7.1-py3-none-any.whl.metadata (2.8 kB)\n",
            "Collecting pyproject-hooks<2.0.0,>=1.0.0 (from poetry)\n",
            "  Using cached pyproject_hooks-1.1.0-py3-none-any.whl.metadata (1.3 kB)\n",
            "Collecting requests<3.0,>=2.26 (from poetry)\n",
            "  Downloading requests-2.31.0-py3-none-any.whl.metadata (4.6 kB)\n",
            "Collecting requests-toolbelt<2.0.0,>=1.0.0 (from poetry)\n",
            "  Downloading requests_toolbelt-1.0.0-py2.py3-none-any.whl.metadata (14 kB)\n",
            "Collecting shellingham<2.0,>=1.5 (from poetry)\n",
            "  Downloading shellingham-1.5.4-py2.py3-none-any.whl.metadata (3.5 kB)\n",
            "Collecting tomlkit<1.0.0,>=0.11.4 (from poetry)\n",
            "  Downloading tomlkit-0.12.4-py3-none-any.whl.metadata (2.7 kB)\n",
            "Collecting trove-classifiers>=2022.5.19 (from poetry)\n",
            "  Downloading trove_classifiers-2024.4.10-py3-none-any.whl.metadata (2.2 kB)\n",
            "Collecting virtualenv<21.0.0,>=20.23.0 (from poetry)\n",
            "  Downloading virtualenv-20.26.1-py3-none-any.whl.metadata (4.4 kB)\n",
            "Collecting msgpack<2.0.0,>=0.5.2 (from cachecontrol<0.15.0,>=0.14.0->cachecontrol[filecache]<0.15.0,>=0.14.0->poetry)\n",
            "  Downloading msgpack-1.0.8-cp312-cp312-manylinux_2_17_x86_64.manylinux2014_x86_64.whl.metadata (9.1 kB)\n",
            "Collecting filelock>=3.8.0 (from cachecontrol[filecache]<0.15.0,>=0.14.0->poetry)\n",
            "  Downloading filelock-3.14.0-py3-none-any.whl.metadata (2.8 kB)\n",
            "Collecting rapidfuzz<4.0.0,>=3.0.0 (from cleo<3.0.0,>=2.1.0->poetry)\n",
            "  Downloading rapidfuzz-3.9.0-cp312-cp312-manylinux_2_17_x86_64.manylinux2014_x86_64.whl.metadata (11 kB)\n",
            "Collecting urllib3>=1.25 (from dulwich<0.22.0,>=0.21.2->poetry)\n",
            "  Downloading urllib3-2.2.1-py3-none-any.whl.metadata (6.4 kB)\n",
            "Collecting jaraco.classes (from keyring<25.0.0,>=24.0.0->poetry)\n",
            "  Downloading jaraco.classes-3.4.0-py3-none-any.whl.metadata (2.6 kB)\n",
            "Requirement already satisfied: SecretStorage>=3.2 in /usr/lib/python3/dist-packages (from keyring<25.0.0,>=24.0.0->poetry) (3.3.1)\n",
            "Requirement already satisfied: jeepney>=0.4.2 in /usr/lib/python3/dist-packages (from keyring<25.0.0,>=24.0.0->poetry) (0.7.1)\n",
            "Collecting ptyprocess>=0.5 (from pexpect<5.0.0,>=4.7.0->poetry)\n",
            "  Downloading ptyprocess-0.7.0-py2.py3-none-any.whl.metadata (1.3 kB)\n",
            "Collecting charset-normalizer<4,>=2 (from requests<3.0,>=2.26->poetry)\n",
            "  Downloading charset_normalizer-3.3.2-cp312-cp312-manylinux_2_17_x86_64.manylinux2014_x86_64.whl.metadata (33 kB)\n",
            "Collecting idna<4,>=2.5 (from requests<3.0,>=2.26->poetry)\n",
            "  Downloading idna-3.7-py3-none-any.whl.metadata (9.9 kB)\n",
            "Collecting certifi>=2017.4.17 (from requests<3.0,>=2.26->poetry)\n",
            "  Downloading certifi-2024.2.2-py3-none-any.whl.metadata (2.2 kB)\n",
            "Collecting distlib<1,>=0.3.7 (from virtualenv<21.0.0,>=20.23.0->poetry)\n",
            "  Downloading distlib-0.3.8-py2.py3-none-any.whl.metadata (5.1 kB)\n",
            "Collecting more-itertools (from jaraco.classes->keyring<25.0.0,>=24.0.0->poetry)\n",
            "  Downloading more_itertools-10.2.0-py3-none-any.whl.metadata (34 kB)\n",
            "Downloading poetry-1.8.2-py3-none-any.whl (249 kB)\n",
            "\u001b[2K   \u001b[90m━━━━━━━━━━━━━━━━━━━━━━━━━━━━━━━━━━━━━━━━\u001b[0m \u001b[32m249.4/249.4 kB\u001b[0m \u001b[31m7.3 MB/s\u001b[0m eta \u001b[36m0:00:00\u001b[0m\n",
            "\u001b[?25hDownloading poetry_core-1.9.0-py3-none-any.whl (309 kB)\n",
            "\u001b[2K   \u001b[90m━━━━━━━━━━━━━━━━━━━━━━━━━━━━━━━━━━━━━━━━\u001b[0m \u001b[32m309.5/309.5 kB\u001b[0m \u001b[31m18.7 MB/s\u001b[0m eta \u001b[36m0:00:00\u001b[0m\n",
            "\u001b[?25hUsing cached build-1.2.1-py3-none-any.whl (21 kB)\n",
            "Downloading cachecontrol-0.14.0-py3-none-any.whl (22 kB)\n",
            "Downloading cleo-2.1.0-py3-none-any.whl (78 kB)\n",
            "\u001b[2K   \u001b[90m━━━━━━━━━━━━━━━━━━━━━━━━━━━━━━━━━━━━━━━━\u001b[0m \u001b[32m78.7/78.7 kB\u001b[0m \u001b[31m5.1 MB/s\u001b[0m eta \u001b[36m0:00:00\u001b[0m\n",
            "\u001b[?25hDownloading crashtest-0.4.1-py3-none-any.whl (7.6 kB)\n",
            "Downloading dulwich-0.21.7-cp312-cp312-manylinux_2_17_x86_64.manylinux2014_x86_64.whl (519 kB)\n",
            "\u001b[2K   \u001b[90m━━━━━━━━━━━━━━━━━━━━━━━━━━━━━━━━━━━━━━━━\u001b[0m \u001b[32m519.4/519.4 kB\u001b[0m \u001b[31m25.9 MB/s\u001b[0m eta \u001b[36m0:00:00\u001b[0m\n",
            "\u001b[?25hDownloading fastjsonschema-2.19.1-py3-none-any.whl (23 kB)\n",
            "Downloading installer-0.7.0-py3-none-any.whl (453 kB)\n",
            "\u001b[2K   \u001b[90m━━━━━━━━━━━━━━━━━━━━━━━━━━━━━━━━━━━━━━━━\u001b[0m \u001b[32m453.8/453.8 kB\u001b[0m \u001b[31m23.4 MB/s\u001b[0m eta \u001b[36m0:00:00\u001b[0m\n",
            "\u001b[?25hDownloading keyring-24.3.1-py3-none-any.whl (38 kB)\n",
            "Using cached packaging-24.0-py3-none-any.whl (53 kB)\n",
            "Downloading pexpect-4.9.0-py2.py3-none-any.whl (63 kB)\n",
            "\u001b[2K   \u001b[90m━━━━━━━━━━━━━━━━━━━━━━━━━━━━━━━━━━━━━━━━\u001b[0m \u001b[32m63.8/63.8 kB\u001b[0m \u001b[31m4.1 MB/s\u001b[0m eta \u001b[36m0:00:00\u001b[0m\n",
            "\u001b[?25hDownloading pkginfo-1.10.0-py3-none-any.whl (30 kB)\n",
            "Downloading platformdirs-4.2.1-py3-none-any.whl (17 kB)\n",
            "Downloading poetry_plugin_export-1.7.1-py3-none-any.whl (10 kB)\n",
            "Using cached pyproject_hooks-1.1.0-py3-none-any.whl (9.2 kB)\n",
            "Downloading requests-2.31.0-py3-none-any.whl (62 kB)\n",
            "\u001b[2K   \u001b[90m━━━━━━━━━━━━━━━━━━━━━━━━━━━━━━━━━━━━━━━━\u001b[0m \u001b[32m62.6/62.6 kB\u001b[0m \u001b[31m3.6 MB/s\u001b[0m eta \u001b[36m0:00:00\u001b[0m\n",
            "\u001b[?25hDownloading requests_toolbelt-1.0.0-py2.py3-none-any.whl (54 kB)\n",
            "\u001b[2K   \u001b[90m━━━━━━━━━━━━━━━━━━━━━━━━━━━━━━━━━━━━━━━━\u001b[0m \u001b[32m54.5/54.5 kB\u001b[0m \u001b[31m3.2 MB/s\u001b[0m eta \u001b[36m0:00:00\u001b[0m\n",
            "\u001b[?25hDownloading shellingham-1.5.4-py2.py3-none-any.whl (9.8 kB)\n",
            "Downloading tomlkit-0.12.4-py3-none-any.whl (37 kB)\n",
            "Downloading trove_classifiers-2024.4.10-py3-none-any.whl (13 kB)\n",
            "Downloading virtualenv-20.26.1-py3-none-any.whl (3.9 MB)\n",
            "\u001b[2K   \u001b[90m━━━━━━━━━━━━━━━━━━━━━━━━━━━━━━━━━━━━━━━━\u001b[0m \u001b[32m3.9/3.9 MB\u001b[0m \u001b[31m66.4 MB/s\u001b[0m eta \u001b[36m0:00:00\u001b[0m\n",
            "\u001b[?25hDownloading certifi-2024.2.2-py3-none-any.whl (163 kB)\n",
            "\u001b[2K   \u001b[90m━━━━━━━━━━━━━━━━━━━━━━━━━━━━━━━━━━━━━━━━\u001b[0m \u001b[32m163.8/163.8 kB\u001b[0m \u001b[31m10.3 MB/s\u001b[0m eta \u001b[36m0:00:00\u001b[0m\n",
            "\u001b[?25hDownloading charset_normalizer-3.3.2-cp312-cp312-manylinux_2_17_x86_64.manylinux2014_x86_64.whl (141 kB)\n",
            "\u001b[2K   \u001b[90m━━━━━━━━━━━━━━━━━━━━━━━━━━━━━━━━━━━━━━━━\u001b[0m \u001b[32m141.9/141.9 kB\u001b[0m \u001b[31m9.5 MB/s\u001b[0m eta \u001b[36m0:00:00\u001b[0m\n",
            "\u001b[?25hDownloading distlib-0.3.8-py2.py3-none-any.whl (468 kB)\n",
            "\u001b[2K   \u001b[90m━━━━━━━━━━━━━━━━━━━━━━━━━━━━━━━━━━━━━━━━\u001b[0m \u001b[32m468.9/468.9 kB\u001b[0m \u001b[31m27.6 MB/s\u001b[0m eta \u001b[36m0:00:00\u001b[0m\n",
            "\u001b[?25hDownloading filelock-3.14.0-py3-none-any.whl (12 kB)\n",
            "Downloading idna-3.7-py3-none-any.whl (66 kB)\n",
            "\u001b[2K   \u001b[90m━━━━━━━━━━━━━━━━━━━━━━━━━━━━━━━━━━━━━━━━\u001b[0m \u001b[32m66.8/66.8 kB\u001b[0m \u001b[31m4.4 MB/s\u001b[0m eta \u001b[36m0:00:00\u001b[0m\n",
            "\u001b[?25hDownloading msgpack-1.0.8-cp312-cp312-manylinux_2_17_x86_64.manylinux2014_x86_64.whl (408 kB)\n",
            "\u001b[2K   \u001b[90m━━━━━━━━━━━━━━━━━━━━━━━━━━━━━━━━━━━━━━━━\u001b[0m \u001b[32m408.3/408.3 kB\u001b[0m \u001b[31m16.2 MB/s\u001b[0m eta \u001b[36m0:00:00\u001b[0m\n",
            "\u001b[?25hDownloading ptyprocess-0.7.0-py2.py3-none-any.whl (13 kB)\n",
            "Downloading rapidfuzz-3.9.0-cp312-cp312-manylinux_2_17_x86_64.manylinux2014_x86_64.whl (3.4 MB)\n",
            "\u001b[2K   \u001b[90m━━━━━━━━━━━━━━━━━━━━━━━━━━━━━━━━━━━━━━━━\u001b[0m \u001b[32m3.4/3.4 MB\u001b[0m \u001b[31m69.5 MB/s\u001b[0m eta \u001b[36m0:00:00\u001b[0m\n",
            "\u001b[?25hDownloading urllib3-2.2.1-py3-none-any.whl (121 kB)\n",
            "\u001b[2K   \u001b[90m━━━━━━━━━━━━━━━━━━━━━━━━━━━━━━━━━━━━━━━━\u001b[0m \u001b[32m121.1/121.1 kB\u001b[0m \u001b[31m8.4 MB/s\u001b[0m eta \u001b[36m0:00:00\u001b[0m\n",
            "\u001b[?25hDownloading jaraco.classes-3.4.0-py3-none-any.whl (6.8 kB)\n",
            "Downloading more_itertools-10.2.0-py3-none-any.whl (57 kB)\n",
            "\u001b[2K   \u001b[90m━━━━━━━━━━━━━━━━━━━━━━━━━━━━━━━━━━━━━━━━\u001b[0m \u001b[32m57.0/57.0 kB\u001b[0m \u001b[31m3.4 MB/s\u001b[0m eta \u001b[36m0:00:00\u001b[0m\n",
            "\u001b[?25hInstalling collected packages: trove-classifiers, ptyprocess, fastjsonschema, distlib, urllib3, tomlkit, shellingham, rapidfuzz, pyproject-hooks, poetry-core, platformdirs, pkginfo, pexpect, packaging, msgpack, more-itertools, installer, idna, filelock, crashtest, charset-normalizer, certifi, virtualenv, requests, jaraco.classes, dulwich, cleo, build, requests-toolbelt, keyring, cachecontrol, poetry-plugin-export, poetry\n",
            "  Attempting uninstall: keyring\n",
            "    Found existing installation: keyring 23.5.0\n",
            "    Uninstalling keyring-23.5.0:\n",
            "      Successfully uninstalled keyring-23.5.0\n",
            "\u001b[31mERROR: pip's dependency resolver does not currently take into account all the packages that are installed. This behaviour is the source of the following dependency conflicts.\n",
            "launchpadlib 1.10.16 requires httplib2, which is not installed.\u001b[0m\u001b[31m\n",
            "\u001b[0mSuccessfully installed build-1.2.1 cachecontrol-0.14.0 certifi-2024.2.2 charset-normalizer-3.3.2 cleo-2.1.0 crashtest-0.4.1 distlib-0.3.8 dulwich-0.21.7 fastjsonschema-2.19.1 filelock-3.14.0 idna-3.7 installer-0.7.0 jaraco.classes-3.4.0 keyring-24.3.1 more-itertools-10.2.0 msgpack-1.0.8 packaging-24.0 pexpect-4.9.0 pkginfo-1.10.0 platformdirs-4.2.1 poetry-1.8.2 poetry-core-1.9.0 poetry-plugin-export-1.7.1 ptyprocess-0.7.0 pyproject-hooks-1.1.0 rapidfuzz-3.9.0 requests-2.31.0 requests-toolbelt-1.0.0 shellingham-1.5.4 tomlkit-0.12.4 trove-classifiers-2024.4.10 urllib3-2.2.1 virtualenv-20.26.1\n",
            "\u001b[33mWARNING: Running pip as the 'root' user can result in broken permissions and conflicting behaviour with the system package manager. It is recommended to use a virtual environment instead: https://pip.pypa.io/warnings/venv\u001b[0m\u001b[33m\n",
            "\u001b[0m"
          ]
        }
      ],
      "source": [
        "# Use pip to install Poetry\n",
        "!python -m pip install poetry"
      ]
    },
    {
      "cell_type": "code",
      "execution_count": 5,
      "metadata": {
        "collapsed": true,
        "id": "0VjAtnXvEWR6",
        "colab": {
          "base_uri": "https://localhost:8080/"
        },
        "outputId": "d2e71341-1d97-4a66-8816-c012a184c6c9"
      },
      "outputs": [
        {
          "output_type": "stream",
          "name": "stdout",
          "text": [
            "Reading package lists... Done\n",
            "Building dependency tree... Done\n",
            "Reading state information... Done\n",
            "The following additional packages will be installed:\n",
            "  libpython3.12 libpython3.12-dev\n",
            "The following NEW packages will be installed:\n",
            "  libpython3.12 libpython3.12-dev python3.12-dev\n",
            "0 upgraded, 3 newly installed, 0 to remove and 46 not upgraded.\n",
            "Need to get 8,543 kB of archives.\n",
            "After this operation, 38.4 MB of additional disk space will be used.\n",
            "Get:1 https://ppa.launchpadcontent.net/deadsnakes/ppa/ubuntu jammy/main amd64 libpython3.12 amd64 3.12.3-1+jammy1 [2,375 kB]\n",
            "Get:2 https://ppa.launchpadcontent.net/deadsnakes/ppa/ubuntu jammy/main amd64 libpython3.12-dev amd64 3.12.3-1+jammy1 [5,669 kB]\n",
            "Get:3 https://ppa.launchpadcontent.net/deadsnakes/ppa/ubuntu jammy/main amd64 python3.12-dev amd64 3.12.3-1+jammy1 [498 kB]\n",
            "Fetched 8,543 kB in 3s (3,037 kB/s)\n",
            "Selecting previously unselected package libpython3.12:amd64.\n",
            "(Reading database ... 122777 files and directories currently installed.)\n",
            "Preparing to unpack .../libpython3.12_3.12.3-1+jammy1_amd64.deb ...\n",
            "Unpacking libpython3.12:amd64 (3.12.3-1+jammy1) ...\n",
            "Selecting previously unselected package libpython3.12-dev:amd64.\n",
            "Preparing to unpack .../libpython3.12-dev_3.12.3-1+jammy1_amd64.deb ...\n",
            "Unpacking libpython3.12-dev:amd64 (3.12.3-1+jammy1) ...\n",
            "Selecting previously unselected package python3.12-dev.\n",
            "Preparing to unpack .../python3.12-dev_3.12.3-1+jammy1_amd64.deb ...\n",
            "Unpacking python3.12-dev (3.12.3-1+jammy1) ...\n",
            "Setting up libpython3.12:amd64 (3.12.3-1+jammy1) ...\n",
            "Setting up libpython3.12-dev:amd64 (3.12.3-1+jammy1) ...\n",
            "Setting up python3.12-dev (3.12.3-1+jammy1) ...\n",
            "Processing triggers for man-db (2.10.2-1) ...\n"
          ]
        }
      ],
      "source": [
        "# Install python devtools, necessary for building some dependencies\n",
        "!apt-get install python3.12-dev"
      ]
    },
    {
      "cell_type": "code",
      "execution_count": 6,
      "metadata": {
        "collapsed": true,
        "id": "6krIga0rCSJG",
        "colab": {
          "base_uri": "https://localhost:8080/"
        },
        "outputId": "f66a6334-a985-4101-e9be-0d8430d069b8"
      },
      "outputs": [
        {
          "output_type": "stream",
          "name": "stdout",
          "text": [
            "Finished!\n"
          ]
        }
      ],
      "source": [
        "# Use poetry to install or build all dependencies\n",
        "!cd woogle-maps; python -m poetry -q install && echo 'Finished!' || 'Failed!'"
      ]
    },
    {
      "cell_type": "code",
      "execution_count": 7,
      "metadata": {
        "id": "X0oQ7rTtBDBX",
        "colab": {
          "base_uri": "https://localhost:8080/"
        },
        "outputId": "112982bd-30d5-49e7-c3d7-bfabc5e5927d"
      },
      "outputs": [
        {
          "output_type": "stream",
          "name": "stdout",
          "text": [
            "Missing dependencies:\n",
            "No missing dependencies found, sucess!\n"
          ]
        }
      ],
      "source": [
        "# Sanity check\n",
        "!echo Missing dependencies:\n",
        "!cd woogle-maps; python3.12 -m poetry install --dry-run | grep \"\\- Installing\" | grep -v \"Already installed\" || echo \"No missing dependencies found, sucess!\""
      ]
    },
    {
      "cell_type": "code",
      "source": [
        "# Last things to set up\n",
        "!cd woogle-maps; poetry run python -c \"import nltk; nltk.download('punkt')\""
      ],
      "metadata": {
        "id": "phBw62nKviu0",
        "colab": {
          "base_uri": "https://localhost:8080/"
        },
        "outputId": "53a30537-af3e-497e-9a06-68ca9cae97a4"
      },
      "execution_count": 8,
      "outputs": [
        {
          "output_type": "stream",
          "name": "stdout",
          "text": [
            "[nltk_data] Downloading package punkt to /root/nltk_data...\n",
            "[nltk_data]   Unzipping tokenizers/punkt.zip.\n"
          ]
        }
      ]
    },
    {
      "cell_type": "markdown",
      "metadata": {
        "id": "3Mdaf6lBGZjh"
      },
      "source": [
        "## Step 4: Setup a browser window to access the app\n",
        "\n",
        "Since localhost is not available on Google Colab, we need ngrok to access the application instead. At the end of this step, you will find the link you need."
      ]
    },
    {
      "cell_type": "code",
      "execution_count": 9,
      "metadata": {
        "id": "rHRDQNe_GYqh",
        "colab": {
          "base_uri": "https://localhost:8080/"
        },
        "outputId": "e43cc6d5-d61b-4455-a0a3-e0081803edc2"
      },
      "outputs": [
        {
          "output_type": "stream",
          "name": "stdout",
          "text": [
            "deb https://ngrok-agent.s3.amazonaws.com buster main\n",
            "Hit:1 https://cloud.r-project.org/bin/linux/ubuntu jammy-cran40/ InRelease\n",
            "Hit:2 https://developer.download.nvidia.com/compute/cuda/repos/ubuntu2204/x86_64  InRelease\n",
            "Hit:3 http://security.ubuntu.com/ubuntu jammy-security InRelease\n",
            "Hit:4 http://archive.ubuntu.com/ubuntu jammy InRelease\n",
            "Hit:5 http://archive.ubuntu.com/ubuntu jammy-updates InRelease\n",
            "Get:6 https://ngrok-agent.s3.amazonaws.com buster InRelease [20.3 kB]\n",
            "Hit:7 http://archive.ubuntu.com/ubuntu jammy-backports InRelease\n",
            "Hit:8 https://ppa.launchpadcontent.net/c2d4u.team/c2d4u4.0+/ubuntu jammy InRelease\n",
            "Hit:9 https://ppa.launchpadcontent.net/deadsnakes/ppa/ubuntu jammy InRelease\n",
            "Hit:10 https://ppa.launchpadcontent.net/graphics-drivers/ppa/ubuntu jammy InRelease\n",
            "Hit:11 https://ppa.launchpadcontent.net/ubuntugis/ppa/ubuntu jammy InRelease\n",
            "Get:12 https://ngrok-agent.s3.amazonaws.com buster/main amd64 Packages [4,219 B]\n",
            "Fetched 24.5 kB in 2s (12.3 kB/s)\n",
            "Reading package lists... Done\n",
            "Building dependency tree... Done\n",
            "Reading state information... Done\n",
            "46 packages can be upgraded. Run 'apt list --upgradable' to see them.\n",
            "Reading package lists... Done\n",
            "Building dependency tree... Done\n",
            "Reading state information... Done\n",
            "The following NEW packages will be installed:\n",
            "  ngrok\n",
            "0 upgraded, 1 newly installed, 0 to remove and 46 not upgraded.\n",
            "Need to get 6,487 kB of archives.\n",
            "After this operation, 0 B of additional disk space will be used.\n",
            "Get:1 https://ngrok-agent.s3.amazonaws.com buster/main amd64 ngrok amd64 3.9.0 [6,487 kB]\n",
            "Fetched 6,487 kB in 1s (6,995 kB/s)\n",
            "debconf: unable to initialize frontend: Dialog\n",
            "debconf: (No usable dialog-like program is installed, so the dialog based frontend cannot be used. at /usr/share/perl5/Debconf/FrontEnd/Dialog.pm line 78, <> line 1.)\n",
            "debconf: falling back to frontend: Readline\n",
            "debconf: unable to initialize frontend: Readline\n",
            "debconf: (This frontend requires a controlling tty.)\n",
            "debconf: falling back to frontend: Teletype\n",
            "dpkg-preconfigure: unable to re-open stdin: \n",
            "Selecting previously unselected package ngrok.\n",
            "(Reading database ... 123032 files and directories currently installed.)\n",
            "Preparing to unpack .../archives/ngrok_3.9.0_amd64.deb ...\n",
            "Unpacking ngrok (3.9.0) ...\n",
            "Setting up ngrok (3.9.0) ...\n"
          ]
        }
      ],
      "source": [
        "# Install ngrok, used to open a website server from the notebook\n",
        "!curl -s https://ngrok-agent.s3.amazonaws.com/ngrok.asc \\\n",
        "\t| sudo tee /etc/apt/trusted.gpg.d/ngrok.asc >/dev/null \\\n",
        "\t&& echo \"deb https://ngrok-agent.s3.amazonaws.com buster main\" \\\n",
        "\t| sudo tee /etc/apt/sources.list.d/ngrok.list \\\n",
        "\t&& sudo apt update \\\n",
        "\t&& sudo apt install ngrok"
      ]
    },
    {
      "cell_type": "code",
      "execution_count": 10,
      "metadata": {
        "id": "ueh_NDqCKpRk",
        "colab": {
          "base_uri": "https://localhost:8080/"
        },
        "outputId": "9134645a-923e-4348-981c-dd74bf51959e"
      },
      "outputs": [
        {
          "output_type": "stream",
          "name": "stdout",
          "text": [
            "Authtoken saved to configuration file: /root/.config/ngrok/ngrok.yml\n"
          ]
        }
      ],
      "source": [
        "# Sign in (using throwaway ngrok account made for this purpose)\n",
        "!ngrok config add-authtoken 2fe2QHsdRZYuNSJjKWEu0oIME8M_4PPSbvpQceV7d3RLepLea; sleep 3"
      ]
    },
    {
      "cell_type": "code",
      "execution_count": 11,
      "metadata": {
        "id": "omkcJpB4G7Ca"
      },
      "outputs": [],
      "source": [
        "# Run ngrok to tunnel Dash app port 8050 to the outside world.\n",
        "# This command runs in the background.\n",
        "get_ipython().system_raw('ngrok http 8060 &')\n",
        "!sleep 3"
      ]
    },
    {
      "cell_type": "code",
      "execution_count": 12,
      "metadata": {
        "id": "RsKMUPCVLaRQ",
        "colab": {
          "base_uri": "https://localhost:8080/"
        },
        "outputId": "7e0d0703-feae-4eb8-bcc7-05ec73e2e90b"
      },
      "outputs": [
        {
          "output_type": "stream",
          "name": "stdout",
          "text": [
            "ngrok     3877 root    3u  IPv4  79160      0t0  TCP localhost:4040 (LISTEN)\n",
            "Sucess!\n"
          ]
        }
      ],
      "source": [
        "# Check if its running, should print at least one line\n",
        "!sudo lsof -PiTCP -sTCP:LISTEN | grep ngrok && echo \"Sucess!\" || echo \"Failed! nothing running. Run the cell above again, then the one below to get the link\""
      ]
    },
    {
      "cell_type": "code",
      "source": [
        "# Get the public URL where you can access the Dash app. Copy this URL.\n",
        "!curl -s http://localhost:4040/api/tunnels | python -c \\\n",
        "    \"import sys, json; print(json.load(sys.stdin)['tunnels'][0]['public_url'])\""
      ],
      "metadata": {
        "id": "UceE0Nb6tblj",
        "colab": {
          "base_uri": "https://localhost:8080/"
        },
        "outputId": "d6e291c3-1650-494d-8522-3b695d22a963"
      },
      "execution_count": 13,
      "outputs": [
        {
          "output_type": "stream",
          "name": "stdout",
          "text": [
            "https://da15-35-229-104-161.ngrok-free.app\n"
          ]
        }
      ]
    },
    {
      "cell_type": "markdown",
      "metadata": {
        "id": "UR5lAgjpL8vt"
      },
      "source": [
        "## Step 5: Start the app, then open link above\n",
        "\n",
        "Run this cell untill it says 'Dash is running on ...'.\n",
        "Don't use the link starting with 127.0.0.1.\n",
        "Instead, use the link above, ending with 'ngrok-free.app'. Click 'Visit Site'."
      ]
    },
    {
      "cell_type": "code",
      "execution_count": null,
      "metadata": {
        "id": "mA8JquWtMN2F",
        "colab": {
          "base_uri": "https://localhost:8080/"
        },
        "outputId": "84060503-36d0-4aba-c338-fc97e4a63f2b"
      },
      "outputs": [
        {
          "output_type": "stream",
          "name": "stdout",
          "text": [
            "/root/.cache/pypoetry/virtualenvs/woogle-maps-OrRItAED-py3.12/lib/python3.12/site-packages/hdbscan/plots.py:448: SyntaxWarning: invalid escape sequence '\\l'\n",
            "  axis.set_ylabel('$\\lambda$ value')\n",
            "/root/.cache/pypoetry/virtualenvs/woogle-maps-OrRItAED-py3.12/lib/python3.12/site-packages/hdbscan/robust_single_linkage_.py:154: SyntaxWarning: invalid escape sequence '\\{'\n",
            "  \"\"\"Perform robust single linkage clustering from a vector array\n",
            "Dash is running on http://127.0.0.1:8060/\n",
            "\n",
            " * Serving Flask app 'app'\n",
            " * Debug mode: off\n",
            "\u001b[31m\u001b[1mWARNING: This is a development server. Do not use it in a production deployment. Use a production WSGI server instead.\u001b[0m\n",
            " * Running on http://127.0.0.1:8060\n",
            "\u001b[33mPress CTRL+C to quit\u001b[0m\n",
            "127.0.0.1 - - [06/May/2024 07:19:27] \"GET / HTTP/1.1\" 200 -\n",
            "127.0.0.1 - - [06/May/2024 07:19:27] \"GET /_dash-component-suites/dash/deps/polyfill@7.v2_16_1m1714979614.12.1.min.js HTTP/1.1\" 200 -\n",
            "127.0.0.1 - - [06/May/2024 07:19:27] \"GET /_dash-component-suites/dash/dash-renderer/build/dash_renderer.v2_16_1m1714979611.min.js HTTP/1.1\" 200 -\n",
            "127.0.0.1 - - [06/May/2024 07:19:27] \"GET /_dash-component-suites/dash/deps/react@16.v2_16_1m1714979614.14.0.min.js HTTP/1.1\" 200 -\n",
            "127.0.0.1 - - [06/May/2024 07:19:27] \"GET /_dash-component-suites/dash_cytoscape/dash_cytoscape.v1_0_0m1714979618.min.js HTTP/1.1\" 200 -\n",
            "127.0.0.1 - - [06/May/2024 07:19:27] \"GET /_dash-component-suites/dash/dcc/dash_core_components-shared.v2_13_1m1714979613.js HTTP/1.1\" 200 -\n",
            "127.0.0.1 - - [06/May/2024 07:19:27] \"GET /_dash-component-suites/dash/html/dash_html_components.v2_0_17m1714979614.min.js HTTP/1.1\" 200 -\n",
            "127.0.0.1 - - [06/May/2024 07:19:27] \"GET /_dash-component-suites/dash_extensions/dash_extensions.v1_0_14m1714979618.min.js HTTP/1.1\" 200 -\n",
            "127.0.0.1 - - [06/May/2024 07:19:27] \"GET /_dash-component-suites/dash_iconify/dash_iconify.v0_1_2m1714979617.min.js HTTP/1.1\" 200 -\n",
            "127.0.0.1 - - [06/May/2024 07:19:27] \"GET /_dash-component-suites/dash/dash_table/bundle.v5_2_10m1714979612.js HTTP/1.1\" 200 -\n",
            "127.0.0.1 - - [06/May/2024 07:19:27] \"GET /_dash-component-suites/dash/deps/prop-types@15.v2_16_1m1714979614.8.1.min.js HTTP/1.1\" 200 -\n",
            "127.0.0.1 - - [06/May/2024 07:19:27] \"GET /_dash-component-suites/dash_mantine_components/dash_mantine_components.v0_12_1m1714979618.js HTTP/1.1\" 200 -\n",
            "127.0.0.1 - - [06/May/2024 07:19:27] \"GET /_dash-component-suites/dash/deps/react-dom@16.v2_16_1m1714979614.14.0.min.js HTTP/1.1\" 200 -\n",
            "127.0.0.1 - - [06/May/2024 07:19:27] \"GET /_dash-component-suites/dash/dcc/dash_core_components.v2_13_1m1714979613.js HTTP/1.1\" 200 -\n",
            "127.0.0.1 - - [06/May/2024 07:19:29] \"GET /_dash-layout HTTP/1.1\" 200 -\n",
            "127.0.0.1 - - [06/May/2024 07:19:29] \"GET /_dash-dependencies HTTP/1.1\" 200 -\n",
            "127.0.0.1 - - [06/May/2024 07:19:29] \"GET /assets/favicon.ico?m=1714979395.4877381 HTTP/1.1\" 200 -\n",
            "127.0.0.1 - - [06/May/2024 07:19:29] \"POST /_dash-update-component HTTP/1.1\" 200 -\n",
            "127.0.0.1 - - [06/May/2024 07:19:29] \"GET /_dash-component-suites/dash_iconify/async-DashIconify.v0_1_2m1650551946.js HTTP/1.1\" 200 -\n",
            "127.0.0.1 - - [06/May/2024 07:19:29] \"GET /_dash-component-suites/dash/dcc/async-upload.js HTTP/1.1\" 200 -\n",
            "127.0.0.1 - - [06/May/2024 07:19:29] \"GET /assets/Woogle_Maps_Logo_Dark.svg HTTP/1.1\" 200 -\n",
            "127.0.0.1 - - [06/May/2024 07:19:38] \"POST /_dash-update-component HTTP/1.1\" 200 -\n",
            "127.0.0.1 - - [06/May/2024 07:19:41] \"POST /_dash-update-component HTTP/1.1\" 200 -\n",
            "127.0.0.1 - - [06/May/2024 07:19:42] \"POST /_dash-update-component HTTP/1.1\" 200 -\n",
            "127.0.0.1 - - [06/May/2024 07:19:49] \"POST /_dash-update-component HTTP/1.1\" 200 -\n"
          ]
        }
      ],
      "source": [
        "!cd woogle-maps; poetry run python dashapp/app.py"
      ]
    }
  ],
  "metadata": {
    "colab": {
      "provenance": []
    },
    "kernelspec": {
      "display_name": "Python 3",
      "name": "python3"
    },
    "language_info": {
      "name": "python"
    }
  },
  "nbformat": 4,
  "nbformat_minor": 0
}